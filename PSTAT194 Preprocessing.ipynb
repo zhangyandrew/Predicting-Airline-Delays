{
 "cells": [
  {
   "cell_type": "code",
   "execution_count": 38,
   "metadata": {
    "collapsed": true
   },
   "outputs": [],
   "source": [
    "import pandas as pd\n",
    "from matplotlib import pyplot as plt\n",
    "import numpy as np"
   ]
  },
  {
   "cell_type": "markdown",
   "metadata": {},
   "source": [
    "## Import dataset"
   ]
  },
  {
   "cell_type": "code",
   "execution_count": 10,
   "metadata": {},
   "outputs": [
    {
     "name": "stderr",
     "output_type": "stream",
     "text": [
      "/usr/local/lib/python2.7/dist-packages/IPython/core/interactiveshell.py:2705: DtypeWarning: Columns (7,8) have mixed types. Specify dtype option on import or set low_memory=False.\n",
      "  interactivity=interactivity, compiler=compiler, result=result)\n"
     ]
    }
   ],
   "source": [
    "flights_df = pd.read_csv(\"data/flights.csv\")"
   ]
  },
  {
   "cell_type": "code",
   "execution_count": 11,
   "metadata": {
    "collapsed": true
   },
   "outputs": [],
   "source": [
    "flights_df.index = pd.RangeIndex(len(flights_df.index))"
   ]
  },
  {
   "cell_type": "code",
   "execution_count": 12,
   "metadata": {},
   "outputs": [
    {
     "data": {
      "text/plain": [
       "YEAR                         0\n",
       "MONTH                        0\n",
       "DAY                          0\n",
       "DAY_OF_WEEK                  0\n",
       "AIRLINE                      0\n",
       "FLIGHT_NUMBER                0\n",
       "TAIL_NUMBER              14721\n",
       "ORIGIN_AIRPORT               0\n",
       "DESTINATION_AIRPORT          0\n",
       "SCHEDULED_DEPARTURE          0\n",
       "DEPARTURE_TIME           86153\n",
       "DEPARTURE_DELAY          86153\n",
       "TAXI_OUT                 89047\n",
       "WHEELS_OFF               89047\n",
       "SCHEDULED_TIME               6\n",
       "ELAPSED_TIME            105071\n",
       "AIR_TIME                105071\n",
       "DISTANCE                     0\n",
       "WHEELS_ON                92513\n",
       "TAXI_IN                  92513\n",
       "SCHEDULED_ARRIVAL            0\n",
       "ARRIVAL_TIME             92513\n",
       "ARRIVAL_DELAY           105071\n",
       "DIVERTED                     0\n",
       "CANCELLED                    0\n",
       "CANCELLATION_REASON    5729195\n",
       "AIR_SYSTEM_DELAY       4755640\n",
       "SECURITY_DELAY         4755640\n",
       "AIRLINE_DELAY          4755640\n",
       "LATE_AIRCRAFT_DELAY    4755640\n",
       "WEATHER_DELAY          4755640\n",
       "dtype: int64"
      ]
     },
     "execution_count": 12,
     "metadata": {},
     "output_type": "execute_result"
    }
   ],
   "source": [
    "flights_df.isnull().sum()"
   ]
  },
  {
   "cell_type": "code",
   "execution_count": 17,
   "metadata": {
    "collapsed": true
   },
   "outputs": [],
   "source": [
    "flights_agg = flights_df[['MONTH','DAY','DAY_OF_WEEK','AIRLINE','ORIGIN_AIRPORT',\n",
    "                          'DESTINATION_AIRPORT','SCHEDULED_DEPARTURE','SCHEDULED_TIME',\n",
    "                          'DISTANCE','SCHEDULED_ARRIVAL','DEPARTURE_DELAY']].copy()\n",
    "flights_agg = flights_agg.dropna(axis=0, how = \"any\")"
   ]
  },
  {
   "cell_type": "code",
   "execution_count": 18,
   "metadata": {},
   "outputs": [
    {
     "data": {
      "text/plain": [
       "MONTH                  0\n",
       "DAY                    0\n",
       "DAY_OF_WEEK            0\n",
       "AIRLINE                0\n",
       "ORIGIN_AIRPORT         0\n",
       "DESTINATION_AIRPORT    0\n",
       "SCHEDULED_DEPARTURE    0\n",
       "SCHEDULED_TIME         0\n",
       "DISTANCE               0\n",
       "SCHEDULED_ARRIVAL      0\n",
       "DEPARTURE_DELAY        0\n",
       "dtype: int64"
      ]
     },
     "execution_count": 18,
     "metadata": {},
     "output_type": "execute_result"
    }
   ],
   "source": [
    "flights_agg.isnull().sum()"
   ]
  },
  {
   "cell_type": "code",
   "execution_count": 20,
   "metadata": {
    "collapsed": true
   },
   "outputs": [],
   "source": [
    "flights_agg['DELAY'] = 'NA'\n",
    "flights_agg['DELAY'] = np.where(flights_agg['DEPARTURE_DELAY'] <= 0, 0, 1) #more efficient"
   ]
  },
  {
   "cell_type": "markdown",
   "metadata": {},
   "source": [
    "## Data Balance"
   ]
  },
  {
   "cell_type": "code",
   "execution_count": 21,
   "metadata": {},
   "outputs": [
    {
     "name": "stdout",
     "output_type": "stream",
     "text": [
      "(0.6292264674895167, 0.3707735325104833)\n"
     ]
    }
   ],
   "source": [
    "no_delay = (flights_agg['DELAY'] == 0).sum()\n",
    "nobs = len(flights_agg['DELAY'])\n",
    "no_delay_perc = float(no_delay)/nobs\n",
    "delay_perc = 1 - no_delay_perc\n",
    "print(no_delay_perc, delay_perc)"
   ]
  },
  {
   "cell_type": "markdown",
   "metadata": {},
   "source": [
    "## Undersampling"
   ]
  },
  {
   "cell_type": "code",
   "execution_count": 22,
   "metadata": {
    "collapsed": true
   },
   "outputs": [],
   "source": [
    "delay = nobs - no_delay\n",
    "no_delay_indices = flights_agg[flights_agg.DELAY == 0].index\n",
    "#undersamples no delays to equal same number of delays\n",
    "np.random.seed(5)\n",
    "random_indices = np.random.choice(no_delay_indices, delay, replace=False) \n",
    "no_delay_sample = flights_agg.loc[random_indices]"
   ]
  },
  {
   "cell_type": "code",
   "execution_count": 23,
   "metadata": {},
   "outputs": [
    {
     "data": {
      "text/html": [
       "<div>\n",
       "<style scoped>\n",
       "    .dataframe tbody tr th:only-of-type {\n",
       "        vertical-align: middle;\n",
       "    }\n",
       "\n",
       "    .dataframe tbody tr th {\n",
       "        vertical-align: top;\n",
       "    }\n",
       "\n",
       "    .dataframe thead th {\n",
       "        text-align: right;\n",
       "    }\n",
       "</style>\n",
       "<table border=\"1\" class=\"dataframe\">\n",
       "  <thead>\n",
       "    <tr style=\"text-align: right;\">\n",
       "      <th></th>\n",
       "      <th>MONTH</th>\n",
       "      <th>DAY</th>\n",
       "      <th>DAY_OF_WEEK</th>\n",
       "      <th>AIRLINE</th>\n",
       "      <th>ORIGIN_AIRPORT</th>\n",
       "      <th>DESTINATION_AIRPORT</th>\n",
       "      <th>SCHEDULED_DEPARTURE</th>\n",
       "      <th>SCHEDULED_TIME</th>\n",
       "      <th>DISTANCE</th>\n",
       "      <th>SCHEDULED_ARRIVAL</th>\n",
       "      <th>DEPARTURE_DELAY</th>\n",
       "      <th>DELAY</th>\n",
       "    </tr>\n",
       "  </thead>\n",
       "  <tbody>\n",
       "    <tr>\n",
       "      <th>2483768</th>\n",
       "      <td>6</td>\n",
       "      <td>6</td>\n",
       "      <td>6</td>\n",
       "      <td>EV</td>\n",
       "      <td>DFW</td>\n",
       "      <td>LEX</td>\n",
       "      <td>2020</td>\n",
       "      <td>140.0</td>\n",
       "      <td>785</td>\n",
       "      <td>2340</td>\n",
       "      <td>-2.0</td>\n",
       "      <td>0</td>\n",
       "    </tr>\n",
       "    <tr>\n",
       "      <th>4298638</th>\n",
       "      <td>9</td>\n",
       "      <td>25</td>\n",
       "      <td>5</td>\n",
       "      <td>MQ</td>\n",
       "      <td>ORD</td>\n",
       "      <td>IND</td>\n",
       "      <td>1142</td>\n",
       "      <td>73.0</td>\n",
       "      <td>177</td>\n",
       "      <td>1355</td>\n",
       "      <td>-2.0</td>\n",
       "      <td>0</td>\n",
       "    </tr>\n",
       "    <tr>\n",
       "      <th>1440480</th>\n",
       "      <td>4</td>\n",
       "      <td>3</td>\n",
       "      <td>5</td>\n",
       "      <td>WN</td>\n",
       "      <td>ATL</td>\n",
       "      <td>PHX</td>\n",
       "      <td>820</td>\n",
       "      <td>275.0</td>\n",
       "      <td>1587</td>\n",
       "      <td>955</td>\n",
       "      <td>-1.0</td>\n",
       "      <td>0</td>\n",
       "    </tr>\n",
       "    <tr>\n",
       "      <th>2073491</th>\n",
       "      <td>5</td>\n",
       "      <td>12</td>\n",
       "      <td>2</td>\n",
       "      <td>DL</td>\n",
       "      <td>DTW</td>\n",
       "      <td>LGA</td>\n",
       "      <td>1359</td>\n",
       "      <td>108.0</td>\n",
       "      <td>502</td>\n",
       "      <td>1547</td>\n",
       "      <td>-4.0</td>\n",
       "      <td>0</td>\n",
       "    </tr>\n",
       "    <tr>\n",
       "      <th>4999474</th>\n",
       "      <td>11</td>\n",
       "      <td>9</td>\n",
       "      <td>1</td>\n",
       "      <td>AS</td>\n",
       "      <td>BLI</td>\n",
       "      <td>SEA</td>\n",
       "      <td>640</td>\n",
       "      <td>49.0</td>\n",
       "      <td>93</td>\n",
       "      <td>729</td>\n",
       "      <td>-1.0</td>\n",
       "      <td>0</td>\n",
       "    </tr>\n",
       "    <tr>\n",
       "      <th>37497</th>\n",
       "      <td>1</td>\n",
       "      <td>3</td>\n",
       "      <td>6</td>\n",
       "      <td>DL</td>\n",
       "      <td>ATL</td>\n",
       "      <td>RSW</td>\n",
       "      <td>1225</td>\n",
       "      <td>102.0</td>\n",
       "      <td>515</td>\n",
       "      <td>1407</td>\n",
       "      <td>-4.0</td>\n",
       "      <td>0</td>\n",
       "    </tr>\n",
       "    <tr>\n",
       "      <th>38622</th>\n",
       "      <td>1</td>\n",
       "      <td>3</td>\n",
       "      <td>6</td>\n",
       "      <td>US</td>\n",
       "      <td>PHL</td>\n",
       "      <td>CLT</td>\n",
       "      <td>1340</td>\n",
       "      <td>107.0</td>\n",
       "      <td>449</td>\n",
       "      <td>1527</td>\n",
       "      <td>-4.0</td>\n",
       "      <td>0</td>\n",
       "    </tr>\n",
       "    <tr>\n",
       "      <th>4529081</th>\n",
       "      <td>10</td>\n",
       "      <td>9</td>\n",
       "      <td>5</td>\n",
       "      <td>WN</td>\n",
       "      <td>12889</td>\n",
       "      <td>14679</td>\n",
       "      <td>2135</td>\n",
       "      <td>60.0</td>\n",
       "      <td>258</td>\n",
       "      <td>2235</td>\n",
       "      <td>-2.0</td>\n",
       "      <td>0</td>\n",
       "    </tr>\n",
       "    <tr>\n",
       "      <th>3452835</th>\n",
       "      <td>8</td>\n",
       "      <td>3</td>\n",
       "      <td>1</td>\n",
       "      <td>OO</td>\n",
       "      <td>MSP</td>\n",
       "      <td>LAX</td>\n",
       "      <td>1530</td>\n",
       "      <td>247.0</td>\n",
       "      <td>1535</td>\n",
       "      <td>1737</td>\n",
       "      <td>-4.0</td>\n",
       "      <td>0</td>\n",
       "    </tr>\n",
       "    <tr>\n",
       "      <th>2298058</th>\n",
       "      <td>5</td>\n",
       "      <td>26</td>\n",
       "      <td>2</td>\n",
       "      <td>EV</td>\n",
       "      <td>ATL</td>\n",
       "      <td>ABE</td>\n",
       "      <td>1449</td>\n",
       "      <td>124.0</td>\n",
       "      <td>692</td>\n",
       "      <td>1653</td>\n",
       "      <td>-5.0</td>\n",
       "      <td>0</td>\n",
       "    </tr>\n",
       "  </tbody>\n",
       "</table>\n",
       "</div>"
      ],
      "text/plain": [
       "         MONTH  DAY  DAY_OF_WEEK AIRLINE ORIGIN_AIRPORT DESTINATION_AIRPORT  \\\n",
       "2483768      6    6            6      EV            DFW                 LEX   \n",
       "4298638      9   25            5      MQ            ORD                 IND   \n",
       "1440480      4    3            5      WN            ATL                 PHX   \n",
       "2073491      5   12            2      DL            DTW                 LGA   \n",
       "4999474     11    9            1      AS            BLI                 SEA   \n",
       "37497        1    3            6      DL            ATL                 RSW   \n",
       "38622        1    3            6      US            PHL                 CLT   \n",
       "4529081     10    9            5      WN          12889               14679   \n",
       "3452835      8    3            1      OO            MSP                 LAX   \n",
       "2298058      5   26            2      EV            ATL                 ABE   \n",
       "\n",
       "         SCHEDULED_DEPARTURE  SCHEDULED_TIME  DISTANCE  SCHEDULED_ARRIVAL  \\\n",
       "2483768                 2020           140.0       785               2340   \n",
       "4298638                 1142            73.0       177               1355   \n",
       "1440480                  820           275.0      1587                955   \n",
       "2073491                 1359           108.0       502               1547   \n",
       "4999474                  640            49.0        93                729   \n",
       "37497                   1225           102.0       515               1407   \n",
       "38622                   1340           107.0       449               1527   \n",
       "4529081                 2135            60.0       258               2235   \n",
       "3452835                 1530           247.0      1535               1737   \n",
       "2298058                 1449           124.0       692               1653   \n",
       "\n",
       "         DEPARTURE_DELAY  DELAY  \n",
       "2483768             -2.0      0  \n",
       "4298638             -2.0      0  \n",
       "1440480             -1.0      0  \n",
       "2073491             -4.0      0  \n",
       "4999474             -1.0      0  \n",
       "37497               -4.0      0  \n",
       "38622               -4.0      0  \n",
       "4529081             -2.0      0  \n",
       "3452835             -4.0      0  \n",
       "2298058             -5.0      0  "
      ]
     },
     "execution_count": 23,
     "metadata": {},
     "output_type": "execute_result"
    }
   ],
   "source": [
    "no_delay_sample[:10] #Check to make sure it was properly created"
   ]
  },
  {
   "cell_type": "markdown",
   "metadata": {},
   "source": [
    "Create balanced sample"
   ]
  },
  {
   "cell_type": "code",
   "execution_count": 24,
   "metadata": {
    "collapsed": true
   },
   "outputs": [],
   "source": [
    "delay_sample = flights_agg[flights_agg.DELAY == 1] \n",
    "flights_agg_balanced = delay_sample.append(no_delay_sample)"
   ]
  },
  {
   "cell_type": "code",
   "execution_count": 25,
   "metadata": {
    "collapsed": true
   },
   "outputs": [],
   "source": [
    "n = int(len(flights_agg_balanced)*0.05)\n",
    "flights_new_bal = flights_agg_balanced.sample(n, random_state = 33)"
   ]
  },
  {
   "cell_type": "markdown",
   "metadata": {},
   "source": [
    "## Double check to make sure new sample is balanced"
   ]
  },
  {
   "cell_type": "code",
   "execution_count": 27,
   "metadata": {},
   "outputs": [
    {
     "name": "stdout",
     "output_type": "stream",
     "text": [
      "(0.5012208260217067, 0.4987791739782933)\n"
     ]
    }
   ],
   "source": [
    "no_delay_bal = (flights_new_bal['DELAY'] == 0).sum()\n",
    "no_delay_perc_bal = float(no_delay_bal)/n\n",
    "delay_perc_bal = 1 - no_delay_perc_bal\n",
    "print(no_delay_perc_bal, delay_perc_bal)"
   ]
  },
  {
   "cell_type": "markdown",
   "metadata": {},
   "source": [
    "## Compare original dataset with new sample"
   ]
  },
  {
   "cell_type": "code",
   "execution_count": 28,
   "metadata": {},
   "outputs": [
    {
     "data": {
      "text/html": [
       "<div>\n",
       "<style scoped>\n",
       "    .dataframe tbody tr th:only-of-type {\n",
       "        vertical-align: middle;\n",
       "    }\n",
       "\n",
       "    .dataframe tbody tr th {\n",
       "        vertical-align: top;\n",
       "    }\n",
       "\n",
       "    .dataframe thead th {\n",
       "        text-align: right;\n",
       "    }\n",
       "</style>\n",
       "<table border=\"1\" class=\"dataframe\">\n",
       "  <thead>\n",
       "    <tr style=\"text-align: right;\">\n",
       "      <th></th>\n",
       "      <th>MONTH</th>\n",
       "      <th>DAY</th>\n",
       "      <th>DAY_OF_WEEK</th>\n",
       "      <th>SCHEDULED_DEPARTURE</th>\n",
       "      <th>SCHEDULED_TIME</th>\n",
       "      <th>DISTANCE</th>\n",
       "      <th>SCHEDULED_ARRIVAL</th>\n",
       "      <th>DEPARTURE_DELAY</th>\n",
       "      <th>DELAY</th>\n",
       "    </tr>\n",
       "  </thead>\n",
       "  <tbody>\n",
       "    <tr>\n",
       "      <th>count</th>\n",
       "      <td>5.732920e+06</td>\n",
       "      <td>5.732920e+06</td>\n",
       "      <td>5.732920e+06</td>\n",
       "      <td>5.732920e+06</td>\n",
       "      <td>5.732920e+06</td>\n",
       "      <td>5.732920e+06</td>\n",
       "      <td>5.732920e+06</td>\n",
       "      <td>5.732920e+06</td>\n",
       "      <td>5.732920e+06</td>\n",
       "    </tr>\n",
       "    <tr>\n",
       "      <th>mean</th>\n",
       "      <td>6.547214e+00</td>\n",
       "      <td>1.570853e+01</td>\n",
       "      <td>3.932390e+00</td>\n",
       "      <td>1.328963e+03</td>\n",
       "      <td>1.419380e+02</td>\n",
       "      <td>8.247620e+02</td>\n",
       "      <td>1.493375e+03</td>\n",
       "      <td>9.370097e+00</td>\n",
       "      <td>3.707735e-01</td>\n",
       "    </tr>\n",
       "    <tr>\n",
       "      <th>std</th>\n",
       "      <td>3.397111e+00</td>\n",
       "      <td>8.774777e+00</td>\n",
       "      <td>1.986191e+00</td>\n",
       "      <td>4.834725e+02</td>\n",
       "      <td>7.533436e+01</td>\n",
       "      <td>6.087944e+02</td>\n",
       "      <td>5.068416e+02</td>\n",
       "      <td>3.708078e+01</td>\n",
       "      <td>4.830120e-01</td>\n",
       "    </tr>\n",
       "    <tr>\n",
       "      <th>min</th>\n",
       "      <td>1.000000e+00</td>\n",
       "      <td>1.000000e+00</td>\n",
       "      <td>1.000000e+00</td>\n",
       "      <td>1.000000e+00</td>\n",
       "      <td>1.800000e+01</td>\n",
       "      <td>2.100000e+01</td>\n",
       "      <td>1.000000e+00</td>\n",
       "      <td>-8.200000e+01</td>\n",
       "      <td>0.000000e+00</td>\n",
       "    </tr>\n",
       "    <tr>\n",
       "      <th>25%</th>\n",
       "      <td>4.000000e+00</td>\n",
       "      <td>8.000000e+00</td>\n",
       "      <td>2.000000e+00</td>\n",
       "      <td>9.160000e+02</td>\n",
       "      <td>8.600000e+01</td>\n",
       "      <td>3.730000e+02</td>\n",
       "      <td>1.110000e+03</td>\n",
       "      <td>-5.000000e+00</td>\n",
       "      <td>0.000000e+00</td>\n",
       "    </tr>\n",
       "    <tr>\n",
       "      <th>50%</th>\n",
       "      <td>7.000000e+00</td>\n",
       "      <td>1.600000e+01</td>\n",
       "      <td>4.000000e+00</td>\n",
       "      <td>1.325000e+03</td>\n",
       "      <td>1.230000e+02</td>\n",
       "      <td>6.500000e+02</td>\n",
       "      <td>1.520000e+03</td>\n",
       "      <td>-2.000000e+00</td>\n",
       "      <td>0.000000e+00</td>\n",
       "    </tr>\n",
       "    <tr>\n",
       "      <th>75%</th>\n",
       "      <td>9.000000e+00</td>\n",
       "      <td>2.300000e+01</td>\n",
       "      <td>6.000000e+00</td>\n",
       "      <td>1.730000e+03</td>\n",
       "      <td>1.740000e+02</td>\n",
       "      <td>1.065000e+03</td>\n",
       "      <td>1.917000e+03</td>\n",
       "      <td>7.000000e+00</td>\n",
       "      <td>1.000000e+00</td>\n",
       "    </tr>\n",
       "    <tr>\n",
       "      <th>max</th>\n",
       "      <td>1.200000e+01</td>\n",
       "      <td>3.100000e+01</td>\n",
       "      <td>7.000000e+00</td>\n",
       "      <td>2.359000e+03</td>\n",
       "      <td>7.180000e+02</td>\n",
       "      <td>4.983000e+03</td>\n",
       "      <td>2.400000e+03</td>\n",
       "      <td>1.988000e+03</td>\n",
       "      <td>1.000000e+00</td>\n",
       "    </tr>\n",
       "  </tbody>\n",
       "</table>\n",
       "</div>"
      ],
      "text/plain": [
       "              MONTH           DAY   DAY_OF_WEEK  SCHEDULED_DEPARTURE  \\\n",
       "count  5.732920e+06  5.732920e+06  5.732920e+06         5.732920e+06   \n",
       "mean   6.547214e+00  1.570853e+01  3.932390e+00         1.328963e+03   \n",
       "std    3.397111e+00  8.774777e+00  1.986191e+00         4.834725e+02   \n",
       "min    1.000000e+00  1.000000e+00  1.000000e+00         1.000000e+00   \n",
       "25%    4.000000e+00  8.000000e+00  2.000000e+00         9.160000e+02   \n",
       "50%    7.000000e+00  1.600000e+01  4.000000e+00         1.325000e+03   \n",
       "75%    9.000000e+00  2.300000e+01  6.000000e+00         1.730000e+03   \n",
       "max    1.200000e+01  3.100000e+01  7.000000e+00         2.359000e+03   \n",
       "\n",
       "       SCHEDULED_TIME      DISTANCE  SCHEDULED_ARRIVAL  DEPARTURE_DELAY  \\\n",
       "count    5.732920e+06  5.732920e+06       5.732920e+06     5.732920e+06   \n",
       "mean     1.419380e+02  8.247620e+02       1.493375e+03     9.370097e+00   \n",
       "std      7.533436e+01  6.087944e+02       5.068416e+02     3.708078e+01   \n",
       "min      1.800000e+01  2.100000e+01       1.000000e+00    -8.200000e+01   \n",
       "25%      8.600000e+01  3.730000e+02       1.110000e+03    -5.000000e+00   \n",
       "50%      1.230000e+02  6.500000e+02       1.520000e+03    -2.000000e+00   \n",
       "75%      1.740000e+02  1.065000e+03       1.917000e+03     7.000000e+00   \n",
       "max      7.180000e+02  4.983000e+03       2.400000e+03     1.988000e+03   \n",
       "\n",
       "              DELAY  \n",
       "count  5.732920e+06  \n",
       "mean   3.707735e-01  \n",
       "std    4.830120e-01  \n",
       "min    0.000000e+00  \n",
       "25%    0.000000e+00  \n",
       "50%    0.000000e+00  \n",
       "75%    1.000000e+00  \n",
       "max    1.000000e+00  "
      ]
     },
     "execution_count": 28,
     "metadata": {},
     "output_type": "execute_result"
    }
   ],
   "source": [
    "flights_agg.describe()"
   ]
  },
  {
   "cell_type": "code",
   "execution_count": 29,
   "metadata": {},
   "outputs": [
    {
     "data": {
      "text/html": [
       "<div>\n",
       "<style scoped>\n",
       "    .dataframe tbody tr th:only-of-type {\n",
       "        vertical-align: middle;\n",
       "    }\n",
       "\n",
       "    .dataframe tbody tr th {\n",
       "        vertical-align: top;\n",
       "    }\n",
       "\n",
       "    .dataframe thead th {\n",
       "        text-align: right;\n",
       "    }\n",
       "</style>\n",
       "<table border=\"1\" class=\"dataframe\">\n",
       "  <thead>\n",
       "    <tr style=\"text-align: right;\">\n",
       "      <th></th>\n",
       "      <th>MONTH</th>\n",
       "      <th>DAY</th>\n",
       "      <th>DAY_OF_WEEK</th>\n",
       "      <th>SCHEDULED_DEPARTURE</th>\n",
       "      <th>SCHEDULED_TIME</th>\n",
       "      <th>DISTANCE</th>\n",
       "      <th>SCHEDULED_ARRIVAL</th>\n",
       "      <th>DEPARTURE_DELAY</th>\n",
       "      <th>DELAY</th>\n",
       "    </tr>\n",
       "  </thead>\n",
       "  <tbody>\n",
       "    <tr>\n",
       "      <th>count</th>\n",
       "      <td>212561.000000</td>\n",
       "      <td>212561.000000</td>\n",
       "      <td>212561.000000</td>\n",
       "      <td>212561.000000</td>\n",
       "      <td>212561.000000</td>\n",
       "      <td>212561.000000</td>\n",
       "      <td>212561.000000</td>\n",
       "      <td>212561.000000</td>\n",
       "      <td>212561.000000</td>\n",
       "    </tr>\n",
       "    <tr>\n",
       "      <th>mean</th>\n",
       "      <td>6.510503</td>\n",
       "      <td>15.694897</td>\n",
       "      <td>3.934753</td>\n",
       "      <td>1354.500934</td>\n",
       "      <td>143.242053</td>\n",
       "      <td>835.669074</td>\n",
       "      <td>1516.261059</td>\n",
       "      <td>14.038803</td>\n",
       "      <td>0.498779</td>\n",
       "    </tr>\n",
       "    <tr>\n",
       "      <th>std</th>\n",
       "      <td>3.393190</td>\n",
       "      <td>8.772973</td>\n",
       "      <td>1.988450</td>\n",
       "      <td>480.486667</td>\n",
       "      <td>75.822668</td>\n",
       "      <td>612.485407</td>\n",
       "      <td>508.504563</td>\n",
       "      <td>41.261328</td>\n",
       "      <td>0.500000</td>\n",
       "    </tr>\n",
       "    <tr>\n",
       "      <th>min</th>\n",
       "      <td>1.000000</td>\n",
       "      <td>1.000000</td>\n",
       "      <td>1.000000</td>\n",
       "      <td>3.000000</td>\n",
       "      <td>18.000000</td>\n",
       "      <td>31.000000</td>\n",
       "      <td>1.000000</td>\n",
       "      <td>-45.000000</td>\n",
       "      <td>0.000000</td>\n",
       "    </tr>\n",
       "    <tr>\n",
       "      <th>25%</th>\n",
       "      <td>4.000000</td>\n",
       "      <td>8.000000</td>\n",
       "      <td>2.000000</td>\n",
       "      <td>940.000000</td>\n",
       "      <td>86.000000</td>\n",
       "      <td>383.000000</td>\n",
       "      <td>1125.000000</td>\n",
       "      <td>-4.000000</td>\n",
       "      <td>0.000000</td>\n",
       "    </tr>\n",
       "    <tr>\n",
       "      <th>50%</th>\n",
       "      <td>7.000000</td>\n",
       "      <td>16.000000</td>\n",
       "      <td>4.000000</td>\n",
       "      <td>1346.000000</td>\n",
       "      <td>125.000000</td>\n",
       "      <td>667.000000</td>\n",
       "      <td>1545.000000</td>\n",
       "      <td>0.000000</td>\n",
       "      <td>0.000000</td>\n",
       "    </tr>\n",
       "    <tr>\n",
       "      <th>75%</th>\n",
       "      <td>9.000000</td>\n",
       "      <td>23.000000</td>\n",
       "      <td>6.000000</td>\n",
       "      <td>1741.000000</td>\n",
       "      <td>175.000000</td>\n",
       "      <td>1075.000000</td>\n",
       "      <td>1930.000000</td>\n",
       "      <td>14.000000</td>\n",
       "      <td>1.000000</td>\n",
       "    </tr>\n",
       "    <tr>\n",
       "      <th>max</th>\n",
       "      <td>12.000000</td>\n",
       "      <td>31.000000</td>\n",
       "      <td>7.000000</td>\n",
       "      <td>2359.000000</td>\n",
       "      <td>718.000000</td>\n",
       "      <td>4983.000000</td>\n",
       "      <td>2359.000000</td>\n",
       "      <td>1367.000000</td>\n",
       "      <td>1.000000</td>\n",
       "    </tr>\n",
       "  </tbody>\n",
       "</table>\n",
       "</div>"
      ],
      "text/plain": [
       "               MONTH            DAY    DAY_OF_WEEK  SCHEDULED_DEPARTURE  \\\n",
       "count  212561.000000  212561.000000  212561.000000        212561.000000   \n",
       "mean        6.510503      15.694897       3.934753          1354.500934   \n",
       "std         3.393190       8.772973       1.988450           480.486667   \n",
       "min         1.000000       1.000000       1.000000             3.000000   \n",
       "25%         4.000000       8.000000       2.000000           940.000000   \n",
       "50%         7.000000      16.000000       4.000000          1346.000000   \n",
       "75%         9.000000      23.000000       6.000000          1741.000000   \n",
       "max        12.000000      31.000000       7.000000          2359.000000   \n",
       "\n",
       "       SCHEDULED_TIME       DISTANCE  SCHEDULED_ARRIVAL  DEPARTURE_DELAY  \\\n",
       "count   212561.000000  212561.000000      212561.000000    212561.000000   \n",
       "mean       143.242053     835.669074        1516.261059        14.038803   \n",
       "std         75.822668     612.485407         508.504563        41.261328   \n",
       "min         18.000000      31.000000           1.000000       -45.000000   \n",
       "25%         86.000000     383.000000        1125.000000        -4.000000   \n",
       "50%        125.000000     667.000000        1545.000000         0.000000   \n",
       "75%        175.000000    1075.000000        1930.000000        14.000000   \n",
       "max        718.000000    4983.000000        2359.000000      1367.000000   \n",
       "\n",
       "               DELAY  \n",
       "count  212561.000000  \n",
       "mean        0.498779  \n",
       "std         0.500000  \n",
       "min         0.000000  \n",
       "25%         0.000000  \n",
       "50%         0.000000  \n",
       "75%         1.000000  \n",
       "max         1.000000  "
      ]
     },
     "execution_count": 29,
     "metadata": {},
     "output_type": "execute_result"
    }
   ],
   "source": [
    "flights_new_bal.describe() #matches"
   ]
  },
  {
   "cell_type": "markdown",
   "metadata": {},
   "source": [
    "Build Airport dictionary to replace incomplete IATA airport codes for October"
   ]
  },
  {
   "cell_type": "code",
   "execution_count": 30,
   "metadata": {
    "collapsed": true
   },
   "outputs": [],
   "source": [
    "airport_table = pd.read_csv(\"data/airport_codes_clean.csv\")"
   ]
  },
  {
   "cell_type": "code",
   "execution_count": 31,
   "metadata": {
    "collapsed": true
   },
   "outputs": [],
   "source": [
    "oct_flights = flights_new_bal[flights_new_bal.MONTH == 10] \n",
    "flights_new_bal = flights_new_bal[~flights_new_bal[\"MONTH\"].isin([10])]"
   ]
  },
  {
   "cell_type": "code",
   "execution_count": 32,
   "metadata": {},
   "outputs": [
    {
     "name": "stderr",
     "output_type": "stream",
     "text": [
      "/usr/local/lib/python2.7/dist-packages/ipykernel/__main__.py:1: SettingWithCopyWarning: \n",
      "A value is trying to be set on a copy of a slice from a DataFrame.\n",
      "Try using .loc[row_indexer,col_indexer] = value instead\n",
      "\n",
      "See the caveats in the documentation: http://pandas.pydata.org/pandas-docs/stable/indexing.html#indexing-view-versus-copy\n",
      "  if __name__ == '__main__':\n",
      "/usr/local/lib/python2.7/dist-packages/pandas/core/generic.py:4619: SettingWithCopyWarning: \n",
      "A value is trying to be set on a copy of a slice from a DataFrame\n",
      "\n",
      "See the caveats in the documentation: http://pandas.pydata.org/pandas-docs/stable/indexing.html#indexing-view-versus-copy\n",
      "  self._update_inplace(new_data)\n"
     ]
    }
   ],
   "source": [
    "oct_flights[\"ORIGIN_AIRPORT\"] = oct_flights[\"ORIGIN_AIRPORT\"].apply(pd.to_numeric)\n",
    "oct_flights[\"ORIGIN_AIRPORT\"].replace(list(airport_table['Code']), \n",
    "                                                                list(airport_table['Airport Code']), inplace=True)\n",
    "flights_new_bal = flights_new_bal.append(oct_flights)"
   ]
  },
  {
   "cell_type": "markdown",
   "metadata": {},
   "source": [
    "Give unique airport IATA code unique integer and for airlines"
   ]
  },
  {
   "cell_type": "code",
   "execution_count": 33,
   "metadata": {
    "collapsed": true
   },
   "outputs": [],
   "source": [
    "unique_IATA = flights_new_bal['ORIGIN_AIRPORT'].unique()\n",
    "unique_IATA_id = [x for x in range(1, len(unique_IATA) + 1)]\n",
    "flights_new_bal['ORIGIN_AIRPORT'].replace(unique_IATA, unique_IATA_id, inplace = True)"
   ]
  },
  {
   "cell_type": "code",
   "execution_count": 34,
   "metadata": {
    "collapsed": true
   },
   "outputs": [],
   "source": [
    "unique_airline = flights_new_bal['AIRLINE'].unique()\n",
    "unique_airline_id = [x for x in range(1, len(unique_airline) + 1)]\n",
    "flights_new_bal['AIRLINE'].replace(unique_airline, unique_airline_id, inplace = True)"
   ]
  },
  {
   "cell_type": "markdown",
   "metadata": {},
   "source": [
    "Visualization"
   ]
  },
  {
   "cell_type": "code",
   "execution_count": 36,
   "metadata": {},
   "outputs": [
    {
     "ename": "NameError",
     "evalue": "name 'ggp' is not defined",
     "output_type": "error",
     "traceback": [
      "\u001b[0;31m\u001b[0m",
      "\u001b[0;31mNameError\u001b[0mTraceback (most recent call last)",
      "\u001b[0;32m<ipython-input-36-c608b6e096d0>\u001b[0m in \u001b[0;36m<module>\u001b[0;34m()\u001b[0m\n\u001b[1;32m      1\u001b[0m \u001b[0mmonth_delays\u001b[0m \u001b[0;34m=\u001b[0m \u001b[0mflights_new_bal\u001b[0m\u001b[0;34m[\u001b[0m\u001b[0mflights_new_bal\u001b[0m\u001b[0;34m[\u001b[0m\u001b[0;34m'DELAY'\u001b[0m\u001b[0;34m]\u001b[0m \u001b[0;34m==\u001b[0m \u001b[0;36m1\u001b[0m\u001b[0;34m]\u001b[0m\u001b[0;34m\u001b[0m\u001b[0m\n\u001b[0;32m----> 2\u001b[0;31m \u001b[0mggp\u001b[0m\u001b[0;34m.\u001b[0m\u001b[0mggplot\u001b[0m\u001b[0;34m(\u001b[0m\u001b[0mmonth_delays\u001b[0m\u001b[0;34m,\u001b[0m \u001b[0mggp\u001b[0m\u001b[0;34m.\u001b[0m\u001b[0maes\u001b[0m\u001b[0;34m(\u001b[0m\u001b[0mx\u001b[0m \u001b[0;34m=\u001b[0m \u001b[0;34m'MONTH'\u001b[0m\u001b[0;34m)\u001b[0m\u001b[0;34m)\u001b[0m \u001b[0;34m+\u001b[0m \u001b[0mggp\u001b[0m\u001b[0;34m.\u001b[0m\u001b[0mgeom_bar\u001b[0m\u001b[0;34m(\u001b[0m\u001b[0mfill\u001b[0m \u001b[0;34m=\u001b[0m \u001b[0;34m'#173265'\u001b[0m\u001b[0;34m)\u001b[0m \u001b[0;34m+\u001b[0m\u001b[0mggp\u001b[0m\u001b[0;34m.\u001b[0m\u001b[0mlabs\u001b[0m\u001b[0;34m(\u001b[0m\u001b[0mtitle\u001b[0m\u001b[0;34m=\u001b[0m\u001b[0;34m\"Flight Delays per Month\"\u001b[0m\u001b[0;34m,\u001b[0m \u001b[0mx\u001b[0m \u001b[0;34m=\u001b[0m \u001b[0;34m\"Month\"\u001b[0m\u001b[0;34m,\u001b[0m \u001b[0my\u001b[0m \u001b[0;34m=\u001b[0m \u001b[0;34m\"Flight Delays\"\u001b[0m\u001b[0;34m)\u001b[0m\u001b[0;34m\u001b[0m\u001b[0m\n\u001b[0m",
      "\u001b[0;31mNameError\u001b[0m: name 'ggp' is not defined"
     ]
    }
   ],
   "source": [
    "month_delays = flights_new_bal[flights_new_bal['DELAY'] == 1]\n",
    "ggp.ggplot(month_delays, ggp.aes(x = 'MONTH')) + ggp.geom_bar(fill = '#173265') +\\\n",
    "ggp.labs(title=\"Flight Delays per Month\", x = \"Month\", y = \"Flight Delays\") "
   ]
  },
  {
   "cell_type": "code",
   "execution_count": 39,
   "metadata": {},
   "outputs": [
    {
     "ename": "NameError",
     "evalue": "name 'mpl' is not defined",
     "output_type": "error",
     "traceback": [
      "\u001b[0;31m\u001b[0m",
      "\u001b[0;31mNameError\u001b[0mTraceback (most recent call last)",
      "\u001b[0;32m<ipython-input-39-85b0f3f2db1c>\u001b[0m in \u001b[0;36m<module>\u001b[0;34m()\u001b[0m\n\u001b[0;32m----> 1\u001b[0;31m \u001b[0mcorrel\u001b[0m \u001b[0;34m=\u001b[0m \u001b[0mmpl\u001b[0m\u001b[0;34m.\u001b[0m\u001b[0mmatshow\u001b[0m\u001b[0;34m(\u001b[0m\u001b[0mflights_new_bal\u001b[0m\u001b[0;34m.\u001b[0m\u001b[0mcorr\u001b[0m\u001b[0;34m(\u001b[0m\u001b[0;34m)\u001b[0m\u001b[0;34m,\u001b[0m \u001b[0mcmap\u001b[0m \u001b[0;34m=\u001b[0m \u001b[0mmpl\u001b[0m\u001b[0;34m.\u001b[0m\u001b[0mcm\u001b[0m\u001b[0;34m.\u001b[0m\u001b[0mGreens\u001b[0m\u001b[0;34m)\u001b[0m\u001b[0;34m\u001b[0m\u001b[0m\n\u001b[0m\u001b[1;32m      2\u001b[0m \u001b[0mmpl\u001b[0m\u001b[0;34m.\u001b[0m\u001b[0mshow\u001b[0m\u001b[0;34m(\u001b[0m\u001b[0mcorrel\u001b[0m\u001b[0;34m)\u001b[0m\u001b[0;34m\u001b[0m\u001b[0m\n",
      "\u001b[0;31mNameError\u001b[0m: name 'mpl' is not defined"
     ]
    }
   ],
   "source": [
    "correl = mpl.matshow(flights_new_bal.corr(), cmap = mpl.cm.Greens)\n",
    "mpl.show(correl)"
   ]
  },
  {
   "cell_type": "markdown",
   "metadata": {},
   "source": [
    "## Initializing SQL Dataframe"
   ]
  },
  {
   "cell_type": "code",
   "execution_count": 1,
   "metadata": {
    "collapsed": true
   },
   "outputs": [],
   "source": [
    "from pyspark import SparkContext\n",
    "from pyspark.sql import SQLContext\n",
    "from pyspark.sql.functions import col\n",
    "\n",
    "sc = SparkContext.getOrCreate()\n",
    "sqlCtx = SQLContext(sc)"
   ]
  },
  {
   "cell_type": "code",
   "execution_count": 62,
   "metadata": {
    "collapsed": true
   },
   "outputs": [],
   "source": [
    "#flight_df = sqlCtx.createDataFrame(flights_new_bal)\n",
    "flight_df2 = sqlCtx.createDataFrame(flights_new_bal, ['features'])"
   ]
  },
  {
   "cell_type": "code",
   "execution_count": 66,
   "metadata": {
    "collapsed": true
   },
   "outputs": [],
   "source": [
    "data = [(Vectors.sparse(5, [(1, 1.0), (3, 7.0)]),),\n",
    "        (Vectors.dense([2.0, 0.0, 3.0, 4.0, 5.0]),),\n",
    "        (Vectors.dense([4.0, 0.0, 0.0, 6.0, 7.0]),)]\n",
    "df = sqlCtx.createDataFrame(data, [\"features\"])"
   ]
  },
  {
   "cell_type": "code",
   "execution_count": 67,
   "metadata": {},
   "outputs": [
    {
     "name": "stdout",
     "output_type": "stream",
     "text": [
      "+--------+---+---+-----+-----+------+----+---+----+---+\n",
      "|features| _2| _3|   _4|   _5|    _6|  _7| _8|  _9|_10|\n",
      "+--------+---+---+-----+-----+------+----+---+----+---+\n",
      "|       5|  5|  1|146.0|128.0|1047.0| 7.0|  1|1040|  L|\n",
      "|       5|  2|  2|117.0|104.0|1639.0|34.0|  1|1605|  L|\n",
      "|       3|  3|  3| 93.0| 74.0|1655.0|-5.0|  2|1700|  S|\n",
      "|      11|  3|  4| 78.0| 62.0|1831.0|36.0|  3|1755|  L|\n",
      "|       8|  2|  5|115.0| 91.0|1102.0|-6.0|  4|1108|  S|\n",
      "+--------+---+---+-----+-----+------+----+---+----+---+\n",
      "only showing top 5 rows\n",
      "\n",
      "+-----+-----------+--------------+------------+--------+--------------+---------------+-------+-------------------+-----+\n",
      "|MONTH|DAY_OF_WEEK|ORIGIN_AIRPORT|ELAPSED_TIME|AIR_TIME|DEPARTURE_TIME|DEPARTURE_DELAY|AIRLINE|SCHEDULED_DEPARTURE|Delay|\n",
      "+-----+-----------+--------------+------------+--------+--------------+---------------+-------+-------------------+-----+\n",
      "|    5|          5|             1|       146.0|   128.0|        1047.0|            7.0|      1|               1040|    L|\n",
      "|    5|          2|             2|       117.0|   104.0|        1639.0|           34.0|      1|               1605|    L|\n",
      "|    3|          3|             3|        93.0|    74.0|        1655.0|           -5.0|      2|               1700|    S|\n",
      "|   11|          3|             4|        78.0|    62.0|        1831.0|           36.0|      3|               1755|    L|\n",
      "|    8|          2|             5|       115.0|    91.0|        1102.0|           -6.0|      4|               1108|    S|\n",
      "+-----+-----------+--------------+------------+--------+--------------+---------------+-------+-------------------+-----+\n",
      "only showing top 5 rows\n",
      "\n",
      "+--------------------+\n",
      "|            features|\n",
      "+--------------------+\n",
      "| (5,[1,3],[1.0,7.0])|\n",
      "|[2.0,0.0,3.0,4.0,...|\n",
      "|[4.0,0.0,0.0,6.0,...|\n",
      "+--------------------+\n",
      "\n"
     ]
    }
   ],
   "source": [
    "flight_df2.show(5)\n",
    "flight_df.show(5)\n",
    "df.show(5)"
   ]
  },
  {
   "cell_type": "markdown",
   "metadata": {},
   "source": [
    "## PCA"
   ]
  },
  {
   "cell_type": "code",
   "execution_count": 53,
   "metadata": {
    "collapsed": true
   },
   "outputs": [],
   "source": [
    "from pyspark.ml.feature import PCA\n",
    "from pyspark.mllib.linalg import Vectors"
   ]
  },
  {
   "cell_type": "code",
   "execution_count": 56,
   "metadata": {
    "collapsed": true
   },
   "outputs": [],
   "source": [
    "pca = PCA(k = 5, inputCol = 'features', outputCol = 'pcaFeatures')"
   ]
  },
  {
   "cell_type": "code",
   "execution_count": 68,
   "metadata": {},
   "outputs": [
    {
     "ename": "NameError",
     "evalue": "name 'lp' is not defined",
     "output_type": "error",
     "traceback": [
      "\u001b[0;31m---------------------------------------------------------------------------\u001b[0m",
      "\u001b[0;31mNameError\u001b[0m                                 Traceback (most recent call last)",
      "\u001b[0;32m<ipython-input-68-584c828b3456>\u001b[0m in \u001b[0;36m<module>\u001b[0;34m()\u001b[0m\n\u001b[0;32m----> 1\u001b[0;31m \u001b[0mpca_model\u001b[0m \u001b[0;34m=\u001b[0m \u001b[0mpca\u001b[0m\u001b[0;34m.\u001b[0m\u001b[0mfit\u001b[0m\u001b[0;34m(\u001b[0m\u001b[0mlp\u001b[0m\u001b[0;34m)\u001b[0m\u001b[0;34m\u001b[0m\u001b[0m\n\u001b[0m",
      "\u001b[0;31mNameError\u001b[0m: name 'lp' is not defined"
     ]
    }
   ],
   "source": [
    "pca_model = pca.fit(lp)"
   ]
  },
  {
   "cell_type": "code",
   "execution_count": null,
   "metadata": {
    "collapsed": true
   },
   "outputs": [],
   "source": []
  },
  {
   "cell_type": "code",
   "execution_count": null,
   "metadata": {
    "collapsed": true
   },
   "outputs": [],
   "source": []
  },
  {
   "cell_type": "markdown",
   "metadata": {},
   "source": [
    "## Logistic Regression"
   ]
  },
  {
   "cell_type": "code",
   "execution_count": 57,
   "metadata": {
    "collapsed": true
   },
   "outputs": [],
   "source": [
    "from pyspark.mllib.classification import LogisticRegressionWithLBFGS, LogisticRegressionModel\n",
    "from pyspark.mllib.regression import LabeledPoint\n",
    "from pyspark.ml.feature import VectorAssembler \n",
    "from pyspark.ml.stat import Correlation"
   ]
  },
  {
   "cell_type": "code",
   "execution_count": 72,
   "metadata": {},
   "outputs": [
    {
     "name": "stdout",
     "output_type": "stream",
     "text": [
      "+-----+-----+--------------+-----------+------------+--------------+--------+-------+-------------------+\n",
      "|Delay|MONTH|ORIGIN_AIRPORT|DAY_OF_WEEK|ELAPSED_TIME|DEPARTURE_TIME|AIR_TIME|AIRLINE|SCHEDULED_DEPARTURE|\n",
      "+-----+-----+--------------+-----------+------------+--------------+--------+-------+-------------------+\n",
      "|    L|    5|             1|          5|       146.0|        1047.0|   128.0|      1|               1040|\n",
      "|    L|    5|             2|          2|       117.0|        1639.0|   104.0|      1|               1605|\n",
      "|    S|    3|             3|          3|        93.0|        1655.0|    74.0|      2|               1700|\n",
      "+-----+-----+--------------+-----------+------------+--------------+--------+-------+-------------------+\n",
      "only showing top 3 rows\n",
      "\n"
     ]
    }
   ],
   "source": [
    "flight_df.select(['DELAY', 'MONTH','ORIGIN_AIRPORT', 'DAY_OF_WEEK', 'ELAPSED_TIME', 'DEPARTURE_TIME', \n",
    "                  'AIR_TIME', 'AIRLINE', 'SCHEDULED_DEPARTURE']).show(3)"
   ]
  },
  {
   "cell_type": "code",
   "execution_count": 73,
   "metadata": {},
   "outputs": [
    {
     "ename": "NameError",
     "evalue": "name 'VectorAssembler' is not defined",
     "output_type": "error",
     "traceback": [
      "\u001b[0;31m---------------------------------------------------------------------------\u001b[0m",
      "\u001b[0;31mNameError\u001b[0m                                 Traceback (most recent call last)",
      "\u001b[0;32m<ipython-input-73-aa9cd8b4874a>\u001b[0m in \u001b[0;36m<module>\u001b[0;34m()\u001b[0m\n\u001b[0;32m----> 1\u001b[0;31m assembler = VectorAssembler(inputCols=['MONTH', 'DAY_OF_WEEK', 'ELAPSED_TIME', 'AIR_TIME', 'SCHEDULED_DEPARTURE', \n\u001b[0m\u001b[1;32m      2\u001b[0m                                        'AIR_TIME'], outputCol=\"features\")\n",
      "\u001b[0;31mNameError\u001b[0m: name 'VectorAssembler' is not defined"
     ]
    }
   ],
   "source": [
    "assembler = VectorAssembler(inputCols=['MONTH', 'DAY_OF_WEEK', 'ELAPSED_TIME', 'AIR_TIME', 'SCHEDULED_DEPARTURE', \n",
    "                                       'AIR_TIME'], outputCol=\"features\")"
   ]
  },
  {
   "cell_type": "code",
   "execution_count": 74,
   "metadata": {},
   "outputs": [
    {
     "ename": "NameError",
     "evalue": "name 'assembler' is not defined",
     "output_type": "error",
     "traceback": [
      "\u001b[0;31m---------------------------------------------------------------------------\u001b[0m",
      "\u001b[0;31mNameError\u001b[0m                                 Traceback (most recent call last)",
      "\u001b[0;32m<ipython-input-74-b88b540feafa>\u001b[0m in \u001b[0;36m<module>\u001b[0;34m()\u001b[0m\n\u001b[0;32m----> 1\u001b[0;31m \u001b[0mtransformed\u001b[0m \u001b[0;34m=\u001b[0m \u001b[0massembler\u001b[0m\u001b[0;34m.\u001b[0m\u001b[0mtransform\u001b[0m\u001b[0;34m(\u001b[0m\u001b[0mflight_df\u001b[0m\u001b[0;34m)\u001b[0m\u001b[0;34m\u001b[0m\u001b[0m\n\u001b[0m",
      "\u001b[0;31mNameError\u001b[0m: name 'assembler' is not defined"
     ]
    }
   ],
   "source": [
    "transformed = assembler.transform(flight_df)"
   ]
  },
  {
   "cell_type": "code",
   "execution_count": 75,
   "metadata": {},
   "outputs": [
    {
     "ename": "NameError",
     "evalue": "name 'transformed' is not defined",
     "output_type": "error",
     "traceback": [
      "\u001b[0;31m---------------------------------------------------------------------------\u001b[0m",
      "\u001b[0;31mNameError\u001b[0m                                 Traceback (most recent call last)",
      "\u001b[0;32m<ipython-input-75-3967a57da28d>\u001b[0m in \u001b[0;36m<module>\u001b[0;34m()\u001b[0m\n\u001b[0;32m----> 1\u001b[0;31m \u001b[0mtransformed\u001b[0m\u001b[0;34m.\u001b[0m\u001b[0mselect\u001b[0m\u001b[0;34m(\u001b[0m\u001b[0;34m[\u001b[0m\u001b[0;34m'Delay'\u001b[0m\u001b[0;34m,\u001b[0m \u001b[0;34m'features'\u001b[0m\u001b[0;34m]\u001b[0m\u001b[0;34m)\u001b[0m\u001b[0;34m.\u001b[0m\u001b[0mshow\u001b[0m\u001b[0;34m(\u001b[0m\u001b[0;36m5\u001b[0m\u001b[0;34m)\u001b[0m\u001b[0;34m\u001b[0m\u001b[0m\n\u001b[0m",
      "\u001b[0;31mNameError\u001b[0m: name 'transformed' is not defined"
     ]
    }
   ],
   "source": [
    "transformed.select(['DELAY', 'features']).show(5)"
   ]
  },
  {
   "cell_type": "code",
   "execution_count": 70,
   "metadata": {},
   "outputs": [
    {
     "ename": "NameError",
     "evalue": "name 'transformed' is not defined",
     "output_type": "error",
     "traceback": [
      "\u001b[0;31m---------------------------------------------------------------------------\u001b[0m",
      "\u001b[0;31mNameError\u001b[0m                                 Traceback (most recent call last)",
      "\u001b[0;32m<ipython-input-70-bf83c27a975a>\u001b[0m in \u001b[0;36m<module>\u001b[0;34m()\u001b[0m\n\u001b[0;32m----> 1\u001b[0;31m \u001b[0mdataRDD\u001b[0m \u001b[0;34m=\u001b[0m \u001b[0mtransformed\u001b[0m\u001b[0;34m.\u001b[0m\u001b[0mselect\u001b[0m\u001b[0;34m(\u001b[0m\u001b[0;34m[\u001b[0m\u001b[0;34m'Delay'\u001b[0m\u001b[0;34m,\u001b[0m\u001b[0;34m'features'\u001b[0m\u001b[0;34m]\u001b[0m\u001b[0;34m)\u001b[0m\u001b[0;34m.\u001b[0m\u001b[0mrdd\u001b[0m\u001b[0;34m.\u001b[0m\u001b[0mmap\u001b[0m\u001b[0;34m(\u001b[0m\u001b[0mtuple\u001b[0m\u001b[0;34m)\u001b[0m\u001b[0;34m\u001b[0m\u001b[0m\n\u001b[0m",
      "\u001b[0;31mNameError\u001b[0m: name 'transformed' is not defined"
     ]
    }
   ],
   "source": [
    "dataRDD = transformed.select(['DELAY','features']).rdd.map(tuple)"
   ]
  },
  {
   "cell_type": "code",
   "execution_count": 69,
   "metadata": {},
   "outputs": [
    {
     "ename": "NameError",
     "evalue": "name 'dataRDD' is not defined",
     "output_type": "error",
     "traceback": [
      "\u001b[0;31m---------------------------------------------------------------------------\u001b[0m",
      "\u001b[0;31mNameError\u001b[0m                                 Traceback (most recent call last)",
      "\u001b[0;32m<ipython-input-69-56178c5eaec0>\u001b[0m in \u001b[0;36m<module>\u001b[0;34m()\u001b[0m\n\u001b[0;32m----> 1\u001b[0;31m \u001b[0mlp\u001b[0m \u001b[0;34m=\u001b[0m \u001b[0mdataRDD\u001b[0m\u001b[0;34m.\u001b[0m\u001b[0mmap\u001b[0m\u001b[0;34m(\u001b[0m\u001b[0;32mlambda\u001b[0m \u001b[0mrow\u001b[0m \u001b[0;34m:\u001b[0m \u001b[0;34m(\u001b[0m\u001b[0;36m0\u001b[0m \u001b[0;32mif\u001b[0m \u001b[0mrow\u001b[0m\u001b[0;34m[\u001b[0m\u001b[0;36m0\u001b[0m\u001b[0;34m]\u001b[0m \u001b[0;34m==\u001b[0m \u001b[0;34m'S'\u001b[0m \u001b[0;32melse\u001b[0m \u001b[0;36m1\u001b[0m\u001b[0;34m,\u001b[0m \u001b[0mVectors\u001b[0m\u001b[0;34m.\u001b[0m\u001b[0mdense\u001b[0m\u001b[0;34m(\u001b[0m\u001b[0mrow\u001b[0m\u001b[0;34m[\u001b[0m\u001b[0;36m1\u001b[0m\u001b[0;34m]\u001b[0m\u001b[0;34m)\u001b[0m\u001b[0;34m)\u001b[0m\u001b[0;34m)\u001b[0m                \u001b[0;34m.\u001b[0m\u001b[0mmap\u001b[0m\u001b[0;34m(\u001b[0m\u001b[0;32mlambda\u001b[0m \u001b[0mrow\u001b[0m \u001b[0;34m:\u001b[0m \u001b[0mLabeledPoint\u001b[0m\u001b[0;34m(\u001b[0m\u001b[0mrow\u001b[0m\u001b[0;34m[\u001b[0m\u001b[0;36m0\u001b[0m\u001b[0;34m]\u001b[0m\u001b[0;34m,\u001b[0m \u001b[0mrow\u001b[0m\u001b[0;34m[\u001b[0m\u001b[0;36m1\u001b[0m\u001b[0;34m]\u001b[0m\u001b[0;34m)\u001b[0m\u001b[0;34m)\u001b[0m\u001b[0;34m\u001b[0m\u001b[0m\n\u001b[0m",
      "\u001b[0;31mNameError\u001b[0m: name 'dataRDD' is not defined"
     ]
    }
   ],
   "source": [
    "lp = dataRDD.map(lambda row : (0 if row[0] == 0 else 1, Vectors.dense(row[1])))    \\\n",
    "            .map(lambda row : LabeledPoint(row[0], row[1]))"
   ]
  },
  {
   "cell_type": "code",
   "execution_count": 32,
   "metadata": {},
   "outputs": [
    {
     "data": {
      "text/plain": [
       "[LabeledPoint(1.0, [5.0,5.0,146.0,128.0,1040.0,128.0]),\n",
       " LabeledPoint(1.0, [5.0,2.0,117.0,104.0,1605.0,104.0]),\n",
       " LabeledPoint(0.0, [3.0,3.0,93.0,74.0,1700.0,74.0]),\n",
       " LabeledPoint(1.0, [11.0,3.0,78.0,62.0,1755.0,62.0]),\n",
       " LabeledPoint(0.0, [8.0,2.0,115.0,91.0,1108.0,91.0]),\n",
       " LabeledPoint(0.0, [9.0,5.0,138.0,123.0,2030.0,123.0]),\n",
       " LabeledPoint(1.0, [6.0,5.0,170.0,144.0,1635.0,144.0]),\n",
       " LabeledPoint(0.0, [12.0,1.0,99.0,80.0,1325.0,80.0]),\n",
       " LabeledPoint(1.0, [1.0,2.0,57.0,43.0,2115.0,43.0]),\n",
       " LabeledPoint(0.0, [9.0,4.0,127.0,77.0,1417.0,77.0]),\n",
       " LabeledPoint(0.0, [5.0,7.0,53.0,38.0,1330.0,38.0])]"
      ]
     },
     "execution_count": 32,
     "metadata": {},
     "output_type": "execute_result"
    }
   ],
   "source": [
    "lp.take(11)"
   ]
  },
  {
   "cell_type": "code",
   "execution_count": 33,
   "metadata": {
    "collapsed": true
   },
   "outputs": [],
   "source": [
    "split = lp.randomSplit([0.8, 0.2], 314)\n",
    "training = split[0]\n",
    "test = split[1]"
   ]
  },
  {
   "cell_type": "code",
   "execution_count": 34,
   "metadata": {
    "collapsed": true
   },
   "outputs": [],
   "source": [
    "LR_model = LogisticRegressionWithLBFGS.train(training)"
   ]
  },
  {
   "cell_type": "code",
   "execution_count": 35,
   "metadata": {
    "collapsed": true
   },
   "outputs": [],
   "source": [
    "LR_LAP = test.map(lambda lp: (float(LR_model.predict(lp.features)), lp.label))"
   ]
  },
  {
   "cell_type": "code",
   "execution_count": 36,
   "metadata": {},
   "outputs": [
    {
     "name": "stdout",
     "output_type": "stream",
     "text": [
      "0.5746268656716418\n"
     ]
    }
   ],
   "source": [
    "LR_acc = 1.0 * LR_LAP.filter(lambda x:x[0] == x[1]).count()/test.count()\n",
    "print(LR_acc)"
   ]
  },
  {
   "cell_type": "code",
   "execution_count": 60,
   "metadata": {},
   "outputs": [
    {
     "name": "stdout",
     "output_type": "stream",
     "text": [
      "+--------------------+\n",
      "|   pearson(features)|\n",
      "+--------------------+\n",
      "|1.0              ...|\n",
      "+--------------------+\n",
      "\n"
     ]
    }
   ],
   "source": [
    "Correlation.corr(transformed, \"features\")"
   ]
  },
  {
   "cell_type": "markdown",
   "metadata": {},
   "source": [
    "## Random Forest"
   ]
  },
  {
   "cell_type": "code",
   "execution_count": 37,
   "metadata": {
    "collapsed": true
   },
   "outputs": [],
   "source": [
    "from pyspark.mllib.tree import RandomForest, RandomForestModel\n",
    "from pyspark.mllib.util import MLUtils\n",
    "from pyspark.ml.feature import StringIndexer\n",
    "from pyspark.ml.classification import RandomForestClassifier"
   ]
  },
  {
   "cell_type": "code",
   "execution_count": 73,
   "metadata": {
    "collapsed": true
   },
   "outputs": [],
   "source": [
    "RF_model = RandomForest.trainClassifier(training, numClasses = 2,\n",
    "                                       categoricalFeaturesInfo = {}, \n",
    "                                       numTrees = 400, featureSubsetStrategy = \"auto\", \n",
    "                                       impurity = 'gini', maxDepth = 4, maxBins = 32)"
   ]
  },
  {
   "cell_type": "code",
   "execution_count": 74,
   "metadata": {
    "collapsed": true
   },
   "outputs": [],
   "source": [
    "RF_pred = RF_model.predict(test.map(lambda x: x.features))"
   ]
  },
  {
   "cell_type": "code",
   "execution_count": 75,
   "metadata": {
    "collapsed": true
   },
   "outputs": [],
   "source": [
    "RF_LAP = test.map(lambda lp: lp.label).zip(RF_pred)"
   ]
  },
  {
   "cell_type": "code",
   "execution_count": 76,
   "metadata": {},
   "outputs": [
    {
     "name": "stdout",
     "output_type": "stream",
     "text": [
      "0.5962568111821843\n"
     ]
    }
   ],
   "source": [
    "RF_testErr = RF_LAP.filter(lambda x: x[0] == x[1]).count()/float(test.count())\n",
    "print(RF_testErr)"
   ]
  },
  {
   "cell_type": "code",
   "execution_count": null,
   "metadata": {
    "collapsed": true
   },
   "outputs": [],
   "source": []
  },
  {
   "cell_type": "code",
   "execution_count": null,
   "metadata": {
    "collapsed": true
   },
   "outputs": [],
   "source": []
  },
  {
   "cell_type": "code",
   "execution_count": null,
   "metadata": {
    "collapsed": true
   },
   "outputs": [],
   "source": []
  },
  {
   "cell_type": "code",
   "execution_count": null,
   "metadata": {
    "collapsed": true
   },
   "outputs": [],
   "source": []
  },
  {
   "cell_type": "code",
   "execution_count": null,
   "metadata": {
    "collapsed": true
   },
   "outputs": [],
   "source": []
  },
  {
   "cell_type": "markdown",
   "metadata": {},
   "source": [
    "## Decision Tree"
   ]
  },
  {
   "cell_type": "code",
   "execution_count": 46,
   "metadata": {
    "collapsed": true
   },
   "outputs": [],
   "source": [
    "from pyspark.mllib.tree import DecisionTree, DecisionTreeModel\n",
    "from pyspark.mllib.util import MLUtils"
   ]
  },
  {
   "cell_type": "code",
   "execution_count": 47,
   "metadata": {
    "collapsed": true
   },
   "outputs": [],
   "source": [
    "DT_model = DecisionTree.trainClassifier(training, numClasses=2, categoricalFeaturesInfo={},\n",
    "                                     impurity='gini', maxDepth=5, maxBins=32)"
   ]
  },
  {
   "cell_type": "code",
   "execution_count": 48,
   "metadata": {
    "collapsed": true
   },
   "outputs": [],
   "source": [
    "DT_pred = DT_model.predict(test.map(lambda x: x.features))"
   ]
  },
  {
   "cell_type": "code",
   "execution_count": 49,
   "metadata": {
    "collapsed": true
   },
   "outputs": [],
   "source": [
    "DT_LAP = test.map(lambda lp: lp.label).zip(DT_pred)"
   ]
  },
  {
   "cell_type": "code",
   "execution_count": 50,
   "metadata": {},
   "outputs": [
    {
     "name": "stdout",
     "output_type": "stream",
     "text": [
      "0.6005685856432125\n"
     ]
    }
   ],
   "source": [
    "DT_LAP = test.map(lambda lp: lp.label).zip(DT_pred)\n",
    "DT_testErr = DT_LAP.filter(lambda x: x[0] == x[1]).count() / float(test.count())\n",
    "print(DT_testErr)"
   ]
  },
  {
   "cell_type": "markdown",
   "metadata": {},
   "source": [
    "## SVM"
   ]
  },
  {
   "cell_type": "code",
   "execution_count": 51,
   "metadata": {
    "collapsed": true
   },
   "outputs": [],
   "source": [
    "from pyspark.mllib.classification import SVMWithSGD, SVMModel\n",
    "from pyspark.mllib.regression import LabeledPoint"
   ]
  },
  {
   "cell_type": "code",
   "execution_count": 52,
   "metadata": {
    "collapsed": true
   },
   "outputs": [],
   "source": [
    "SVM_model = SVMWithSGD.train(training, iterations = 1000)"
   ]
  },
  {
   "cell_type": "code",
   "execution_count": 53,
   "metadata": {
    "collapsed": true
   },
   "outputs": [],
   "source": [
    "SVM_LAP = test.map(lambda x: (float(SVM_model.predict(x.features)), x.label))"
   ]
  },
  {
   "cell_type": "code",
   "execution_count": 54,
   "metadata": {},
   "outputs": [
    {
     "name": "stdout",
     "output_type": "stream",
     "text": [
      "0.5027007818052595\n"
     ]
    }
   ],
   "source": [
    "SVM_testErr = SVM_LAP.filter(lambda x: x[0] == x[1]).count()/float(test.count())\n",
    "print(SVM_testErr)"
   ]
  },
  {
   "cell_type": "markdown",
   "metadata": {},
   "source": [
    "## K-Fold Cross Validation"
   ]
  },
  {
   "cell_type": "code",
   "execution_count": 60,
   "metadata": {
    "collapsed": true
   },
   "outputs": [],
   "source": [
    "from pyspark.ml import Pipeline\n",
    "from pyspark.ml.classification import LogisticRegression\n",
    "from pyspark.ml.evaluation import BinaryClassificationEvaluator\n",
    "from pyspark.ml.feature import HashingTF, Tokenizer\n",
    "from pyspark.ml.tuning import CrossValidator, ParamGridBuilder"
   ]
  },
  {
   "cell_type": "code",
   "execution_count": null,
   "metadata": {
    "collapsed": true
   },
   "outputs": [],
   "source": []
  },
  {
   "cell_type": "code",
   "execution_count": null,
   "metadata": {
    "collapsed": true
   },
   "outputs": [],
   "source": []
  },
  {
   "cell_type": "code",
   "execution_count": null,
   "metadata": {
    "collapsed": true
   },
   "outputs": [],
   "source": []
  },
  {
   "cell_type": "code",
   "execution_count": null,
   "metadata": {
    "collapsed": true
   },
   "outputs": [],
   "source": []
  }
 ],
 "metadata": {
  "kernelspec": {
   "display_name": "Python 3",
   "language": "python",
   "name": "python3"
  },
  "language_info": {
   "codemirror_mode": {
    "name": "ipython",
    "version": 3
   },
   "file_extension": ".py",
   "mimetype": "text/x-python",
   "name": "python",
   "nbconvert_exporter": "python",
   "pygments_lexer": "ipython3",
   "version": "3.6.3"
  }
 },
 "nbformat": 4,
 "nbformat_minor": 2
}
